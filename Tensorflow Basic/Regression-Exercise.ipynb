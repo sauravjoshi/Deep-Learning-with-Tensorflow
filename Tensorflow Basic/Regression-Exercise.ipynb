{
 "cells": [
  {
   "cell_type": "markdown",
   "metadata": {},
   "source": [
    "# Regression Exercise \n",
    "\n",
    "California Housing Data\n",
    "\n",
    "This data set contains information about all the block groups in California from the 1990 Census. In this sample a block group on average includes 1425.5 individuals living in a geographically compact area. \n",
    "\n",
    "The task is to aproximate the median house value of each block from the values of the rest of the variables. \n",
    "\n",
    " It has been obtained from the LIACC repository. The original page where the data set can be found is: http://www.liaad.up.pt/~ltorgo/Regression/DataSets.html.\n",
    " "
   ]
  },
  {
   "cell_type": "markdown",
   "metadata": {
    "collapsed": true
   },
   "source": [
    "The Features:\n",
    " \n",
    "* housingMedianAge: continuous. \n",
    "* totalRooms: continuous. \n",
    "* totalBedrooms: continuous. \n",
    "* population: continuous. \n",
    "* households: continuous. \n",
    "* medianIncome: continuous. \n",
    "* medianHouseValue: continuous. "
   ]
  },
  {
   "cell_type": "markdown",
   "metadata": {},
   "source": [
    "## The Data"
   ]
  },
  {
   "cell_type": "markdown",
   "metadata": {},
   "source": [
    "** Import the cal_housing_clean.csv file with pandas. Separate it into a training (70%) and testing set(30%).**"
   ]
  },
  {
   "cell_type": "code",
   "execution_count": 24,
   "metadata": {},
   "outputs": [],
   "source": [
    "import pandas as pd\n",
    "import numpy as np\n",
    "import matplotlib.pyplot as plt\n",
    "import tensorflow as tf\n",
    "from sklearn.preprocessing import MinMaxScaler\n",
    "from sklearn.model_selection import train_test_split\n",
    "from sklearn.metrics import mean_squared_error\n",
    "\n",
    "%matplotlib inline"
   ]
  },
  {
   "cell_type": "code",
   "execution_count": 2,
   "metadata": {
    "collapsed": true
   },
   "outputs": [],
   "source": [
    "df = pd.read_csv('cal_housing_clean.csv')\n",
    "X = df.drop('medianHouseValue', axis=1)\n",
    "y = df['medianHouseValue']"
   ]
  },
  {
   "cell_type": "code",
   "execution_count": 3,
   "metadata": {
    "collapsed": true
   },
   "outputs": [],
   "source": [
    "X_cols = X.columns"
   ]
  },
  {
   "cell_type": "code",
   "execution_count": 4,
   "metadata": {},
   "outputs": [],
   "source": [
    "X_train, X_test, y_train, y_test = train_test_split(X, y, test_size=0.3, random_state=101)"
   ]
  },
  {
   "cell_type": "markdown",
   "metadata": {},
   "source": [
    "### Scale the Feature Data\n",
    "\n"
   ]
  },
  {
   "cell_type": "code",
   "execution_count": 5,
   "metadata": {},
   "outputs": [
    {
     "data": {
      "text/plain": [
       "MinMaxScaler(copy=True, feature_range=(0, 1))"
      ]
     },
     "execution_count": 5,
     "metadata": {},
     "output_type": "execute_result"
    }
   ],
   "source": [
    "scaler = MinMaxScaler()\n",
    "scaler.fit(X_train)"
   ]
  },
  {
   "cell_type": "code",
   "execution_count": 6,
   "metadata": {},
   "outputs": [],
   "source": [
    "X_train_scaled = pd.DataFrame(data=scaler.transform(X_train), columns=X.columns, index=X_train.index)\n",
    "X_test_scaled = pd.DataFrame(data=scaler.transform(X_test), columns=X.columns, index=X_test.index)"
   ]
  },
  {
   "cell_type": "markdown",
   "metadata": {},
   "source": [
    "### Create Feature Columns\n"
   ]
  },
  {
   "cell_type": "code",
   "execution_count": 7,
   "metadata": {
    "collapsed": true
   },
   "outputs": [],
   "source": [
    "hma = tf.feature_column.numeric_column('housingMedianAge')\n",
    "tr = tf.feature_column.numeric_column('totalRooms')\n",
    "tb = tf.feature_column.numeric_column('totalBedrooms')\n",
    "pop = tf.feature_column.numeric_column('population')\n",
    "households = tf.feature_column.numeric_column('households')\n",
    "mi = tf.feature_column.numeric_column('medianIncome')\n",
    "# mhv = tf.feature_column.numeric_column('medianHouseValue')"
   ]
  },
  {
   "cell_type": "code",
   "execution_count": 8,
   "metadata": {},
   "outputs": [],
   "source": [
    "feat_cols = [hma, tr, tb, pop, households, mi]"
   ]
  },
  {
   "cell_type": "markdown",
   "metadata": {},
   "source": [
    "** Creating the input function for the estimator object. (play around with batch_size and num_epochs)**"
   ]
  },
  {
   "cell_type": "code",
   "execution_count": 48,
   "metadata": {},
   "outputs": [],
   "source": [
    "input_fn = tf.estimator.inputs.pandas_input_fn(x=X_train_scaled, y=y_train, batch_size=10, num_epochs=1000, shuffle=True)"
   ]
  },
  {
   "cell_type": "markdown",
   "metadata": {},
   "source": [
    "** Creating the estimator model. Use a DNNRegressor. Play around with the hidden units! **"
   ]
  },
  {
   "cell_type": "code",
   "execution_count": 10,
   "metadata": {},
   "outputs": [
    {
     "name": "stdout",
     "output_type": "stream",
     "text": [
      "INFO:tensorflow:Using default config.\n",
      "WARNING:tensorflow:Using temporary folder as model directory: C:\\Users\\user\\AppData\\Local\\Temp\\tmpsymvar2c\n",
      "INFO:tensorflow:Using config: {'_save_checkpoints_secs': 600, '_save_checkpoints_steps': None, '_keep_checkpoint_max': 5, '_save_summary_steps': 100, '_model_dir': 'C:\\\\Users\\\\user\\\\AppData\\\\Local\\\\Temp\\\\tmpsymvar2c', '_log_step_count_steps': 100, '_keep_checkpoint_every_n_hours': 10000, '_tf_random_seed': 1, '_session_config': None}\n"
     ]
    }
   ],
   "source": [
    "model = tf.estimator.DNNRegressor(hidden_units=[6, 6, 6], feature_columns=feat_cols)"
   ]
  },
  {
   "cell_type": "markdown",
   "metadata": {},
   "source": [
    "##### ** Train the model for ~1,000 steps. (Later come back to this and train it for more and check for improvement) **"
   ]
  },
  {
   "cell_type": "code",
   "execution_count": 42,
   "metadata": {
    "collapsed": true
   },
   "outputs": [
    {
     "name": "stdout",
     "output_type": "stream",
     "text": [
      "INFO:tensorflow:Create CheckpointSaverHook.\n",
      "INFO:tensorflow:Restoring parameters from C:\\Users\\user\\AppData\\Local\\Temp\\tmpsymvar2c\\model.ckpt-1000\n",
      "INFO:tensorflow:Saving checkpoints for 1001 into C:\\Users\\user\\AppData\\Local\\Temp\\tmpsymvar2c\\model.ckpt.\n",
      "INFO:tensorflow:loss = 3.73867e+11, step = 1001\n",
      "INFO:tensorflow:global_step/sec: 262.674\n",
      "INFO:tensorflow:loss = 5.86079e+11, step = 1101 (0.388 sec)\n",
      "INFO:tensorflow:global_step/sec: 325.282\n",
      "INFO:tensorflow:loss = 3.08443e+11, step = 1201 (0.306 sec)\n",
      "INFO:tensorflow:global_step/sec: 302.02\n",
      "INFO:tensorflow:loss = 1.39398e+11, step = 1301 (0.331 sec)\n",
      "INFO:tensorflow:global_step/sec: 302.99\n",
      "INFO:tensorflow:loss = 1.72945e+11, step = 1401 (0.327 sec)\n",
      "INFO:tensorflow:global_step/sec: 315.369\n",
      "INFO:tensorflow:loss = 5.28494e+10, step = 1501 (0.320 sec)\n",
      "INFO:tensorflow:global_step/sec: 303.562\n",
      "INFO:tensorflow:loss = 2.0028e+11, step = 1601 (0.330 sec)\n",
      "INFO:tensorflow:global_step/sec: 321.757\n",
      "INFO:tensorflow:loss = 1.44565e+11, step = 1701 (0.313 sec)\n",
      "INFO:tensorflow:global_step/sec: 343.317\n",
      "INFO:tensorflow:loss = 4.94172e+10, step = 1801 (0.285 sec)\n",
      "INFO:tensorflow:global_step/sec: 323.64\n",
      "INFO:tensorflow:loss = 7.54653e+10, step = 1901 (0.313 sec)\n",
      "INFO:tensorflow:global_step/sec: 315.367\n",
      "INFO:tensorflow:loss = 5.31089e+10, step = 2001 (0.317 sec)\n",
      "INFO:tensorflow:global_step/sec: 308.719\n",
      "INFO:tensorflow:loss = 4.49613e+10, step = 2101 (0.323 sec)\n",
      "INFO:tensorflow:global_step/sec: 312.396\n",
      "INFO:tensorflow:loss = 1.55861e+11, step = 2201 (0.318 sec)\n",
      "INFO:tensorflow:global_step/sec: 340.303\n",
      "INFO:tensorflow:loss = 3.75402e+10, step = 2301 (0.298 sec)\n",
      "INFO:tensorflow:global_step/sec: 349.549\n",
      "INFO:tensorflow:loss = 6.04831e+10, step = 2401 (0.286 sec)\n",
      "INFO:tensorflow:global_step/sec: 348.659\n",
      "INFO:tensorflow:loss = 1.53979e+11, step = 2501 (0.289 sec)\n",
      "INFO:tensorflow:global_step/sec: 328.949\n",
      "INFO:tensorflow:loss = 2.20559e+11, step = 2601 (0.297 sec)\n",
      "INFO:tensorflow:global_step/sec: 333.034\n",
      "INFO:tensorflow:loss = 3.30452e+10, step = 2701 (0.302 sec)\n",
      "INFO:tensorflow:global_step/sec: 333.339\n",
      "INFO:tensorflow:loss = 5.3179e+10, step = 2801 (0.306 sec)\n",
      "INFO:tensorflow:global_step/sec: 327.104\n",
      "INFO:tensorflow:loss = 1.68412e+11, step = 2901 (0.299 sec)\n",
      "INFO:tensorflow:global_step/sec: 325.082\n",
      "INFO:tensorflow:loss = 1.23487e+11, step = 3001 (0.310 sec)\n",
      "INFO:tensorflow:global_step/sec: 312.085\n",
      "INFO:tensorflow:loss = 1.15924e+11, step = 3101 (0.320 sec)\n",
      "INFO:tensorflow:global_step/sec: 308.951\n",
      "INFO:tensorflow:loss = 4.95899e+10, step = 3201 (0.323 sec)\n",
      "INFO:tensorflow:global_step/sec: 295.467\n",
      "INFO:tensorflow:loss = 1.98777e+11, step = 3301 (0.338 sec)\n",
      "INFO:tensorflow:global_step/sec: 307.998\n",
      "INFO:tensorflow:loss = 1.05054e+11, step = 3401 (0.325 sec)\n",
      "INFO:tensorflow:global_step/sec: 331.882\n",
      "INFO:tensorflow:loss = 5.68788e+10, step = 3501 (0.300 sec)\n",
      "INFO:tensorflow:global_step/sec: 281.466\n",
      "INFO:tensorflow:loss = 1.81704e+11, step = 3601 (0.354 sec)\n",
      "INFO:tensorflow:global_step/sec: 309.198\n",
      "INFO:tensorflow:loss = 5.7305e+10, step = 3701 (0.325 sec)\n",
      "INFO:tensorflow:global_step/sec: 293.056\n",
      "INFO:tensorflow:loss = 7.0245e+10, step = 3801 (0.341 sec)\n",
      "INFO:tensorflow:global_step/sec: 291.94\n",
      "INFO:tensorflow:loss = 1.5357e+11, step = 3901 (0.342 sec)\n",
      "INFO:tensorflow:global_step/sec: 277.301\n",
      "INFO:tensorflow:loss = 4.92775e+10, step = 4001 (0.360 sec)\n",
      "INFO:tensorflow:global_step/sec: 350.889\n",
      "INFO:tensorflow:loss = 1.86606e+11, step = 4101 (0.283 sec)\n",
      "INFO:tensorflow:global_step/sec: 309.805\n",
      "INFO:tensorflow:loss = 1.33084e+11, step = 4201 (0.325 sec)\n",
      "INFO:tensorflow:global_step/sec: 274.492\n",
      "INFO:tensorflow:loss = 2.27186e+11, step = 4301 (0.366 sec)\n",
      "INFO:tensorflow:global_step/sec: 256.817\n",
      "INFO:tensorflow:loss = 1.25019e+11, step = 4401 (0.388 sec)\n",
      "INFO:tensorflow:global_step/sec: 319.784\n",
      "INFO:tensorflow:loss = 9.30366e+10, step = 4501 (0.315 sec)\n",
      "INFO:tensorflow:global_step/sec: 277.15\n",
      "INFO:tensorflow:loss = 1.04827e+11, step = 4601 (0.360 sec)\n",
      "INFO:tensorflow:global_step/sec: 490.302\n",
      "INFO:tensorflow:loss = 9.379e+10, step = 4701 (0.203 sec)\n",
      "INFO:tensorflow:global_step/sec: 306.671\n",
      "INFO:tensorflow:loss = 1.18763e+11, step = 4801 (0.330 sec)\n",
      "INFO:tensorflow:global_step/sec: 338.491\n",
      "INFO:tensorflow:loss = 1.29725e+11, step = 4901 (0.292 sec)\n",
      "INFO:tensorflow:global_step/sec: 416.449\n",
      "INFO:tensorflow:loss = 1.10394e+11, step = 5001 (0.240 sec)\n",
      "INFO:tensorflow:global_step/sec: 289.902\n",
      "INFO:tensorflow:loss = 7.73973e+10, step = 5101 (0.344 sec)\n",
      "INFO:tensorflow:global_step/sec: 274.917\n",
      "INFO:tensorflow:loss = 1.10425e+11, step = 5201 (0.362 sec)\n",
      "INFO:tensorflow:global_step/sec: 278.105\n",
      "INFO:tensorflow:loss = 5.19761e+10, step = 5301 (0.360 sec)\n",
      "INFO:tensorflow:global_step/sec: 284.918\n",
      "INFO:tensorflow:loss = 8.83836e+10, step = 5401 (0.353 sec)\n",
      "INFO:tensorflow:global_step/sec: 334.357\n",
      "INFO:tensorflow:loss = 2.7562e+11, step = 5501 (0.299 sec)\n",
      "INFO:tensorflow:global_step/sec: 315.946\n",
      "INFO:tensorflow:loss = 6.14301e+10, step = 5601 (0.317 sec)\n",
      "INFO:tensorflow:global_step/sec: 290.103\n",
      "INFO:tensorflow:loss = 1.42799e+10, step = 5701 (0.341 sec)\n",
      "INFO:tensorflow:global_step/sec: 304.431\n",
      "INFO:tensorflow:loss = 5.21734e+10, step = 5801 (0.329 sec)\n",
      "INFO:tensorflow:global_step/sec: 301.42\n",
      "INFO:tensorflow:loss = 1.6698e+11, step = 5901 (0.332 sec)\n",
      "INFO:tensorflow:global_step/sec: 283.625\n",
      "INFO:tensorflow:loss = 4.08302e+10, step = 6001 (0.354 sec)\n",
      "INFO:tensorflow:global_step/sec: 324.291\n",
      "INFO:tensorflow:loss = 1.15751e+11, step = 6101 (0.308 sec)\n",
      "INFO:tensorflow:global_step/sec: 333.234\n",
      "INFO:tensorflow:loss = 4.80138e+10, step = 6201 (0.301 sec)\n",
      "INFO:tensorflow:global_step/sec: 326.276\n",
      "INFO:tensorflow:loss = 1.20472e+11, step = 6301 (0.314 sec)\n",
      "INFO:tensorflow:global_step/sec: 283.985\n",
      "INFO:tensorflow:loss = 1.02324e+11, step = 6401 (0.341 sec)\n",
      "INFO:tensorflow:global_step/sec: 322.791\n",
      "INFO:tensorflow:loss = 1.8789e+11, step = 6501 (0.312 sec)\n",
      "INFO:tensorflow:global_step/sec: 328.712\n",
      "INFO:tensorflow:loss = 7.04638e+10, step = 6601 (0.306 sec)\n",
      "INFO:tensorflow:global_step/sec: 310.115\n",
      "INFO:tensorflow:loss = 2.09173e+11, step = 6701 (0.320 sec)\n",
      "INFO:tensorflow:global_step/sec: 408.834\n",
      "INFO:tensorflow:loss = 7.69513e+10, step = 6801 (0.241 sec)\n",
      "INFO:tensorflow:global_step/sec: 357.192\n",
      "INFO:tensorflow:loss = 7.98906e+10, step = 6901 (0.285 sec)\n",
      "INFO:tensorflow:global_step/sec: 309.877\n",
      "INFO:tensorflow:loss = 8.01689e+10, step = 7001 (0.322 sec)\n",
      "INFO:tensorflow:global_step/sec: 290.099\n",
      "INFO:tensorflow:loss = 1.37691e+11, step = 7101 (0.340 sec)\n",
      "INFO:tensorflow:global_step/sec: 311.703\n",
      "INFO:tensorflow:loss = 1.39956e+11, step = 7201 (0.324 sec)\n",
      "INFO:tensorflow:global_step/sec: 323.901\n",
      "INFO:tensorflow:loss = 1.04963e+11, step = 7301 (0.312 sec)\n",
      "INFO:tensorflow:global_step/sec: 289.153\n",
      "INFO:tensorflow:loss = 1.20035e+11, step = 7401 (0.341 sec)\n",
      "INFO:tensorflow:global_step/sec: 296.204\n",
      "INFO:tensorflow:loss = 3.26846e+10, step = 7501 (0.342 sec)\n",
      "INFO:tensorflow:global_step/sec: 300.781\n",
      "INFO:tensorflow:loss = 1.24942e+11, step = 7601 (0.330 sec)\n",
      "INFO:tensorflow:global_step/sec: 322.607\n",
      "INFO:tensorflow:loss = 5.66732e+10, step = 7701 (0.317 sec)\n",
      "INFO:tensorflow:global_step/sec: 361.66\n",
      "INFO:tensorflow:loss = 1.85148e+11, step = 7801 (0.273 sec)\n",
      "INFO:tensorflow:global_step/sec: 295.428\n",
      "INFO:tensorflow:loss = 1.46866e+11, step = 7901 (0.339 sec)\n",
      "INFO:tensorflow:global_step/sec: 277.915\n",
      "INFO:tensorflow:loss = 2.5786e+11, step = 8001 (0.356 sec)\n",
      "INFO:tensorflow:global_step/sec: 300.909\n",
      "INFO:tensorflow:loss = 9.39377e+10, step = 8101 (0.333 sec)\n",
      "INFO:tensorflow:global_step/sec: 309.771\n",
      "INFO:tensorflow:loss = 9.63792e+10, step = 8201 (0.323 sec)\n",
      "INFO:tensorflow:global_step/sec: 281.951\n",
      "INFO:tensorflow:loss = 1.99801e+11, step = 8301 (0.354 sec)\n",
      "INFO:tensorflow:global_step/sec: 375.583\n",
      "INFO:tensorflow:loss = 9.1494e+10, step = 8401 (0.271 sec)\n",
      "INFO:tensorflow:global_step/sec: 378.031\n",
      "INFO:tensorflow:loss = 2.74988e+10, step = 8501 (0.263 sec)\n",
      "INFO:tensorflow:global_step/sec: 326.712\n",
      "INFO:tensorflow:loss = 6.47239e+10, step = 8601 (0.301 sec)\n",
      "INFO:tensorflow:global_step/sec: 401.065\n",
      "INFO:tensorflow:loss = 5.15943e+10, step = 8701 (0.251 sec)\n",
      "INFO:tensorflow:global_step/sec: 323.583\n",
      "INFO:tensorflow:loss = 6.13192e+10, step = 8801 (0.308 sec)\n",
      "INFO:tensorflow:global_step/sec: 309.082\n"
     ]
    },
    {
     "name": "stdout",
     "output_type": "stream",
     "text": [
      "INFO:tensorflow:loss = 1.17334e+11, step = 8901 (0.325 sec)\n",
      "INFO:tensorflow:global_step/sec: 294.845\n",
      "INFO:tensorflow:loss = 3.53863e+10, step = 9001 (0.338 sec)\n",
      "INFO:tensorflow:global_step/sec: 317.246\n",
      "INFO:tensorflow:loss = 7.8705e+10, step = 9101 (0.316 sec)\n",
      "INFO:tensorflow:global_step/sec: 325.748\n",
      "INFO:tensorflow:loss = 1.72339e+11, step = 9201 (0.307 sec)\n",
      "INFO:tensorflow:global_step/sec: 325.145\n",
      "INFO:tensorflow:loss = 1.32841e+11, step = 9301 (0.309 sec)\n",
      "INFO:tensorflow:global_step/sec: 328.607\n",
      "INFO:tensorflow:loss = 2.48855e+11, step = 9401 (0.307 sec)\n",
      "INFO:tensorflow:global_step/sec: 305.835\n",
      "INFO:tensorflow:loss = 7.73313e+10, step = 9501 (0.318 sec)\n",
      "INFO:tensorflow:global_step/sec: 346.51\n",
      "INFO:tensorflow:loss = 7.79935e+10, step = 9601 (0.292 sec)\n",
      "INFO:tensorflow:global_step/sec: 347.645\n",
      "INFO:tensorflow:loss = 1.29035e+11, step = 9701 (0.286 sec)\n",
      "INFO:tensorflow:global_step/sec: 419.958\n",
      "INFO:tensorflow:loss = 2.23043e+11, step = 9801 (0.238 sec)\n",
      "INFO:tensorflow:global_step/sec: 438.454\n",
      "INFO:tensorflow:loss = 1.66334e+11, step = 9901 (0.233 sec)\n",
      "INFO:tensorflow:global_step/sec: 504.027\n",
      "INFO:tensorflow:loss = 7.31359e+10, step = 10001 (0.196 sec)\n",
      "INFO:tensorflow:global_step/sec: 543.874\n",
      "INFO:tensorflow:loss = 9.1695e+10, step = 10101 (0.179 sec)\n",
      "INFO:tensorflow:global_step/sec: 353.643\n",
      "INFO:tensorflow:loss = 1.12384e+11, step = 10201 (0.288 sec)\n",
      "INFO:tensorflow:global_step/sec: 428.936\n",
      "INFO:tensorflow:loss = 5.96557e+10, step = 10301 (0.228 sec)\n",
      "INFO:tensorflow:global_step/sec: 305.962\n",
      "INFO:tensorflow:loss = 4.14909e+10, step = 10401 (0.330 sec)\n",
      "INFO:tensorflow:global_step/sec: 319.966\n",
      "INFO:tensorflow:loss = 5.71042e+10, step = 10501 (0.319 sec)\n",
      "INFO:tensorflow:global_step/sec: 362.247\n",
      "INFO:tensorflow:loss = 7.28547e+10, step = 10601 (0.278 sec)\n",
      "INFO:tensorflow:global_step/sec: 427.492\n",
      "INFO:tensorflow:loss = 1.2186e+11, step = 10701 (0.225 sec)\n",
      "INFO:tensorflow:global_step/sec: 494.176\n",
      "INFO:tensorflow:loss = 6.45551e+10, step = 10801 (0.205 sec)\n",
      "INFO:tensorflow:global_step/sec: 453.65\n",
      "INFO:tensorflow:loss = 6.1262e+10, step = 10901 (0.223 sec)\n",
      "INFO:tensorflow:global_step/sec: 326.089\n",
      "INFO:tensorflow:loss = 1.43953e+11, step = 11001 (0.304 sec)\n",
      "INFO:tensorflow:global_step/sec: 382.79\n",
      "INFO:tensorflow:loss = 1.26674e+11, step = 11101 (0.265 sec)\n",
      "INFO:tensorflow:global_step/sec: 371.984\n",
      "INFO:tensorflow:loss = 4.57245e+10, step = 11201 (0.265 sec)\n",
      "INFO:tensorflow:global_step/sec: 308.043\n",
      "INFO:tensorflow:loss = 5.7635e+10, step = 11301 (0.326 sec)\n",
      "INFO:tensorflow:global_step/sec: 354.853\n",
      "INFO:tensorflow:loss = 8.06451e+10, step = 11401 (0.284 sec)\n",
      "INFO:tensorflow:global_step/sec: 329.893\n",
      "INFO:tensorflow:loss = 1.29014e+11, step = 11501 (0.301 sec)\n",
      "INFO:tensorflow:global_step/sec: 359.137\n",
      "INFO:tensorflow:loss = 6.26852e+10, step = 11601 (0.278 sec)\n",
      "INFO:tensorflow:global_step/sec: 264.522\n",
      "INFO:tensorflow:loss = 1.1457e+11, step = 11701 (0.377 sec)\n",
      "INFO:tensorflow:global_step/sec: 333.658\n",
      "INFO:tensorflow:loss = 1.39615e+11, step = 11801 (0.302 sec)\n",
      "INFO:tensorflow:global_step/sec: 347.973\n",
      "INFO:tensorflow:loss = 6.95691e+10, step = 11901 (0.288 sec)\n",
      "INFO:tensorflow:global_step/sec: 295.277\n",
      "INFO:tensorflow:loss = 1.1486e+11, step = 12001 (0.339 sec)\n",
      "INFO:tensorflow:global_step/sec: 395.851\n",
      "INFO:tensorflow:loss = 1.07681e+11, step = 12101 (0.254 sec)\n",
      "INFO:tensorflow:global_step/sec: 309.267\n",
      "INFO:tensorflow:loss = 1.82621e+11, step = 12201 (0.317 sec)\n",
      "INFO:tensorflow:global_step/sec: 311.176\n",
      "INFO:tensorflow:loss = 1.18687e+11, step = 12301 (0.325 sec)\n",
      "INFO:tensorflow:global_step/sec: 304.852\n",
      "INFO:tensorflow:loss = 1.27459e+11, step = 12401 (0.329 sec)\n",
      "INFO:tensorflow:global_step/sec: 329.531\n",
      "INFO:tensorflow:loss = 7.12162e+10, step = 12501 (0.307 sec)\n",
      "INFO:tensorflow:global_step/sec: 316.802\n",
      "INFO:tensorflow:loss = 5.91138e+10, step = 12601 (0.307 sec)\n",
      "INFO:tensorflow:global_step/sec: 294.817\n",
      "INFO:tensorflow:loss = 1.07234e+11, step = 12701 (0.343 sec)\n",
      "INFO:tensorflow:global_step/sec: 327.145\n",
      "INFO:tensorflow:loss = 9.27467e+10, step = 12801 (0.307 sec)\n",
      "INFO:tensorflow:global_step/sec: 324.956\n",
      "INFO:tensorflow:loss = 7.56784e+10, step = 12901 (0.310 sec)\n",
      "INFO:tensorflow:global_step/sec: 322.22\n",
      "INFO:tensorflow:loss = 1.03028e+11, step = 13001 (0.315 sec)\n",
      "INFO:tensorflow:global_step/sec: 299.962\n",
      "INFO:tensorflow:loss = 6.8149e+10, step = 13101 (0.324 sec)\n",
      "INFO:tensorflow:global_step/sec: 308.504\n",
      "INFO:tensorflow:loss = 3.25001e+10, step = 13201 (0.327 sec)\n",
      "INFO:tensorflow:global_step/sec: 302.737\n",
      "INFO:tensorflow:loss = 7.40886e+10, step = 13301 (0.328 sec)\n",
      "INFO:tensorflow:global_step/sec: 302.194\n",
      "INFO:tensorflow:loss = 5.72902e+10, step = 13401 (0.335 sec)\n",
      "INFO:tensorflow:global_step/sec: 294.985\n",
      "INFO:tensorflow:loss = 5.86783e+10, step = 13501 (0.333 sec)\n",
      "INFO:tensorflow:global_step/sec: 329.057\n",
      "INFO:tensorflow:loss = 8.14846e+10, step = 13601 (0.310 sec)\n",
      "INFO:tensorflow:global_step/sec: 312.811\n",
      "INFO:tensorflow:loss = 1.23087e+11, step = 13701 (0.317 sec)\n",
      "INFO:tensorflow:global_step/sec: 303.256\n",
      "INFO:tensorflow:loss = 8.67098e+10, step = 13801 (0.326 sec)\n",
      "INFO:tensorflow:global_step/sec: 337.071\n",
      "INFO:tensorflow:loss = 1.65733e+11, step = 13901 (0.300 sec)\n",
      "INFO:tensorflow:global_step/sec: 337.506\n",
      "INFO:tensorflow:loss = 6.38269e+10, step = 14001 (0.298 sec)\n",
      "INFO:tensorflow:global_step/sec: 327.808\n",
      "INFO:tensorflow:loss = 9.48358e+10, step = 14101 (0.301 sec)\n",
      "INFO:tensorflow:global_step/sec: 316.539\n",
      "INFO:tensorflow:loss = 8.74169e+10, step = 14201 (0.316 sec)\n",
      "INFO:tensorflow:global_step/sec: 336.459\n",
      "INFO:tensorflow:loss = 3.86379e+10, step = 14301 (0.302 sec)\n",
      "INFO:tensorflow:global_step/sec: 327.919\n",
      "INFO:tensorflow:loss = 4.37774e+10, step = 14401 (0.301 sec)\n",
      "INFO:tensorflow:global_step/sec: 296.475\n",
      "INFO:tensorflow:loss = 9.41501e+10, step = 14501 (0.335 sec)\n",
      "INFO:tensorflow:global_step/sec: 321.247\n",
      "INFO:tensorflow:loss = 1.48689e+11, step = 14601 (0.317 sec)\n",
      "INFO:tensorflow:global_step/sec: 299.163\n",
      "INFO:tensorflow:loss = 1.40556e+11, step = 14701 (0.329 sec)\n",
      "INFO:tensorflow:global_step/sec: 330.15\n",
      "INFO:tensorflow:loss = 8.41376e+10, step = 14801 (0.305 sec)\n",
      "INFO:tensorflow:global_step/sec: 330.729\n",
      "INFO:tensorflow:loss = 6.17197e+10, step = 14901 (0.304 sec)\n",
      "INFO:tensorflow:global_step/sec: 336.139\n",
      "INFO:tensorflow:loss = 1.41075e+11, step = 15001 (0.296 sec)\n",
      "INFO:tensorflow:global_step/sec: 317.771\n",
      "INFO:tensorflow:loss = 2.83781e+10, step = 15101 (0.312 sec)\n",
      "INFO:tensorflow:global_step/sec: 333.08\n",
      "INFO:tensorflow:loss = 5.78234e+10, step = 15201 (0.302 sec)\n",
      "INFO:tensorflow:global_step/sec: 329.524\n",
      "INFO:tensorflow:loss = 4.72821e+10, step = 15301 (0.306 sec)\n",
      "INFO:tensorflow:global_step/sec: 306.465\n",
      "INFO:tensorflow:loss = 9.05462e+10, step = 15401 (0.326 sec)\n",
      "INFO:tensorflow:global_step/sec: 323.189\n",
      "INFO:tensorflow:loss = 7.69903e+10, step = 15501 (0.307 sec)\n",
      "INFO:tensorflow:global_step/sec: 317.252\n",
      "INFO:tensorflow:loss = 1.04838e+11, step = 15601 (0.319 sec)\n",
      "INFO:tensorflow:global_step/sec: 309.111\n",
      "INFO:tensorflow:loss = 1.07181e+11, step = 15701 (0.324 sec)\n",
      "INFO:tensorflow:global_step/sec: 302.092\n",
      "INFO:tensorflow:loss = 1.97188e+11, step = 15801 (0.325 sec)\n",
      "INFO:tensorflow:global_step/sec: 330.932\n",
      "INFO:tensorflow:loss = 2.18897e+11, step = 15901 (0.308 sec)\n",
      "INFO:tensorflow:global_step/sec: 299.8\n",
      "INFO:tensorflow:loss = 1.9068e+11, step = 16001 (0.330 sec)\n",
      "INFO:tensorflow:global_step/sec: 293.929\n",
      "INFO:tensorflow:loss = 1.57188e+11, step = 16101 (0.341 sec)\n",
      "INFO:tensorflow:global_step/sec: 344.474\n",
      "INFO:tensorflow:loss = 1.97838e+11, step = 16201 (0.290 sec)\n",
      "INFO:tensorflow:global_step/sec: 294.182\n",
      "INFO:tensorflow:loss = 2.76013e+10, step = 16301 (0.343 sec)\n",
      "INFO:tensorflow:global_step/sec: 349.6\n",
      "INFO:tensorflow:loss = 6.90352e+10, step = 16401 (0.281 sec)\n",
      "INFO:tensorflow:global_step/sec: 453.367\n",
      "INFO:tensorflow:loss = 4.23772e+10, step = 16501 (0.223 sec)\n",
      "INFO:tensorflow:global_step/sec: 340.883\n",
      "INFO:tensorflow:loss = 6.70821e+10, step = 16601 (0.293 sec)\n",
      "INFO:tensorflow:global_step/sec: 338.737\n",
      "INFO:tensorflow:loss = 2.47667e+11, step = 16701 (0.294 sec)\n",
      "INFO:tensorflow:global_step/sec: 343.117\n",
      "INFO:tensorflow:loss = 2.09248e+11, step = 16801 (0.291 sec)\n",
      "INFO:tensorflow:global_step/sec: 296.803\n",
      "INFO:tensorflow:loss = 1.27787e+11, step = 16901 (0.336 sec)\n",
      "INFO:tensorflow:global_step/sec: 350.228\n"
     ]
    },
    {
     "name": "stdout",
     "output_type": "stream",
     "text": [
      "INFO:tensorflow:loss = 1.63893e+11, step = 17001 (0.286 sec)\n",
      "INFO:tensorflow:global_step/sec: 348.871\n",
      "INFO:tensorflow:loss = 5.69504e+10, step = 17101 (0.289 sec)\n",
      "INFO:tensorflow:global_step/sec: 350.809\n",
      "INFO:tensorflow:loss = 6.35426e+10, step = 17201 (0.286 sec)\n",
      "INFO:tensorflow:global_step/sec: 280.567\n",
      "INFO:tensorflow:loss = 1.2628e+11, step = 17301 (0.354 sec)\n",
      "INFO:tensorflow:global_step/sec: 305.077\n",
      "INFO:tensorflow:loss = 1.47023e+11, step = 17401 (0.328 sec)\n",
      "INFO:tensorflow:global_step/sec: 356.138\n",
      "INFO:tensorflow:loss = 6.54954e+10, step = 17501 (0.281 sec)\n",
      "INFO:tensorflow:global_step/sec: 379.16\n",
      "INFO:tensorflow:loss = 9.84266e+10, step = 17601 (0.264 sec)\n",
      "INFO:tensorflow:global_step/sec: 316.963\n",
      "INFO:tensorflow:loss = 9.16756e+10, step = 17701 (0.315 sec)\n",
      "INFO:tensorflow:global_step/sec: 294.394\n",
      "INFO:tensorflow:loss = 1.99355e+11, step = 17801 (0.343 sec)\n",
      "INFO:tensorflow:global_step/sec: 301.363\n",
      "INFO:tensorflow:loss = 8.66469e+10, step = 17901 (0.326 sec)\n",
      "INFO:tensorflow:global_step/sec: 323.664\n",
      "INFO:tensorflow:loss = 5.00413e+10, step = 18001 (0.311 sec)\n",
      "INFO:tensorflow:global_step/sec: 315.9\n",
      "INFO:tensorflow:loss = 9.50248e+10, step = 18101 (0.317 sec)\n",
      "INFO:tensorflow:global_step/sec: 319.814\n",
      "INFO:tensorflow:loss = 5.32302e+10, step = 18201 (0.314 sec)\n",
      "INFO:tensorflow:global_step/sec: 305.393\n",
      "INFO:tensorflow:loss = 1.37804e+11, step = 18301 (0.331 sec)\n",
      "INFO:tensorflow:global_step/sec: 321.585\n",
      "INFO:tensorflow:loss = 9.75466e+10, step = 18401 (0.305 sec)\n",
      "INFO:tensorflow:global_step/sec: 329.743\n",
      "INFO:tensorflow:loss = 6.97808e+10, step = 18501 (0.303 sec)\n",
      "INFO:tensorflow:global_step/sec: 320.23\n",
      "INFO:tensorflow:loss = 1.19771e+11, step = 18601 (0.315 sec)\n",
      "INFO:tensorflow:global_step/sec: 324.558\n",
      "INFO:tensorflow:loss = 1.13104e+11, step = 18701 (0.313 sec)\n",
      "INFO:tensorflow:global_step/sec: 300.74\n",
      "INFO:tensorflow:loss = 8.33316e+10, step = 18801 (0.330 sec)\n",
      "INFO:tensorflow:global_step/sec: 294.186\n",
      "INFO:tensorflow:loss = 8.7641e+10, step = 18901 (0.337 sec)\n",
      "INFO:tensorflow:global_step/sec: 336.944\n",
      "INFO:tensorflow:loss = 4.96492e+10, step = 19001 (0.295 sec)\n",
      "INFO:tensorflow:global_step/sec: 308.32\n",
      "INFO:tensorflow:loss = 8.62968e+10, step = 19101 (0.329 sec)\n",
      "INFO:tensorflow:global_step/sec: 319.283\n",
      "INFO:tensorflow:loss = 4.8761e+10, step = 19201 (0.314 sec)\n",
      "INFO:tensorflow:global_step/sec: 308.131\n",
      "INFO:tensorflow:loss = 1.48891e+11, step = 19301 (0.323 sec)\n",
      "INFO:tensorflow:global_step/sec: 294.382\n",
      "INFO:tensorflow:loss = 1.16817e+11, step = 19401 (0.337 sec)\n",
      "INFO:tensorflow:global_step/sec: 310.396\n",
      "INFO:tensorflow:loss = 1.24388e+11, step = 19501 (0.324 sec)\n",
      "INFO:tensorflow:global_step/sec: 297.818\n",
      "INFO:tensorflow:loss = 5.08502e+10, step = 19601 (0.337 sec)\n",
      "INFO:tensorflow:global_step/sec: 324.148\n",
      "INFO:tensorflow:loss = 1.05768e+11, step = 19701 (0.305 sec)\n",
      "INFO:tensorflow:global_step/sec: 346.572\n",
      "INFO:tensorflow:loss = 5.09363e+10, step = 19801 (0.292 sec)\n",
      "INFO:tensorflow:global_step/sec: 292.617\n",
      "INFO:tensorflow:loss = 7.75342e+10, step = 19901 (0.342 sec)\n",
      "INFO:tensorflow:global_step/sec: 254.538\n",
      "INFO:tensorflow:loss = 2.57364e+11, step = 20001 (0.389 sec)\n",
      "INFO:tensorflow:global_step/sec: 383.918\n",
      "INFO:tensorflow:loss = 5.97726e+10, step = 20101 (0.261 sec)\n",
      "INFO:tensorflow:global_step/sec: 353.368\n",
      "INFO:tensorflow:loss = 1.30749e+11, step = 20201 (0.286 sec)\n",
      "INFO:tensorflow:global_step/sec: 320.931\n",
      "INFO:tensorflow:loss = 1.15662e+11, step = 20301 (0.316 sec)\n",
      "INFO:tensorflow:global_step/sec: 301.578\n",
      "INFO:tensorflow:loss = 7.53067e+10, step = 20401 (0.324 sec)\n",
      "INFO:tensorflow:global_step/sec: 313.285\n",
      "INFO:tensorflow:loss = 1.37396e+11, step = 20501 (0.320 sec)\n",
      "INFO:tensorflow:global_step/sec: 296.526\n",
      "INFO:tensorflow:loss = 9.07048e+10, step = 20601 (0.339 sec)\n",
      "INFO:tensorflow:global_step/sec: 325.523\n",
      "INFO:tensorflow:loss = 5.70701e+10, step = 20701 (0.309 sec)\n",
      "INFO:tensorflow:global_step/sec: 288.028\n",
      "INFO:tensorflow:loss = 1.03242e+11, step = 20801 (0.341 sec)\n",
      "INFO:tensorflow:global_step/sec: 315.774\n",
      "INFO:tensorflow:loss = 5.24211e+10, step = 20901 (0.323 sec)\n",
      "INFO:tensorflow:global_step/sec: 280.1\n",
      "INFO:tensorflow:loss = 7.84786e+10, step = 21001 (0.356 sec)\n",
      "INFO:tensorflow:global_step/sec: 300.116\n",
      "INFO:tensorflow:loss = 7.88084e+10, step = 21101 (0.332 sec)\n",
      "INFO:tensorflow:global_step/sec: 328.562\n",
      "INFO:tensorflow:loss = 4.56062e+10, step = 21201 (0.311 sec)\n",
      "INFO:tensorflow:global_step/sec: 294.242\n",
      "INFO:tensorflow:loss = 1.57835e+11, step = 21301 (0.331 sec)\n",
      "INFO:tensorflow:global_step/sec: 328.671\n",
      "INFO:tensorflow:loss = 2.28496e+11, step = 21401 (0.308 sec)\n",
      "INFO:tensorflow:global_step/sec: 333.13\n",
      "INFO:tensorflow:loss = 9.40208e+10, step = 21501 (0.301 sec)\n",
      "INFO:tensorflow:global_step/sec: 319.042\n",
      "INFO:tensorflow:loss = 6.17624e+10, step = 21601 (0.309 sec)\n",
      "INFO:tensorflow:global_step/sec: 292.876\n",
      "INFO:tensorflow:loss = 6.18618e+10, step = 21701 (0.344 sec)\n",
      "INFO:tensorflow:global_step/sec: 327.983\n",
      "INFO:tensorflow:loss = 6.38341e+10, step = 21801 (0.302 sec)\n",
      "INFO:tensorflow:global_step/sec: 316.191\n",
      "INFO:tensorflow:loss = 5.19578e+10, step = 21901 (0.320 sec)\n",
      "INFO:tensorflow:global_step/sec: 313.931\n",
      "INFO:tensorflow:loss = 1.12935e+11, step = 22001 (0.318 sec)\n",
      "INFO:tensorflow:global_step/sec: 327.435\n",
      "INFO:tensorflow:loss = 6.54361e+10, step = 22101 (0.307 sec)\n",
      "INFO:tensorflow:global_step/sec: 297.858\n",
      "INFO:tensorflow:loss = 9.33432e+10, step = 22201 (0.336 sec)\n",
      "INFO:tensorflow:global_step/sec: 302.39\n",
      "INFO:tensorflow:loss = 5.30255e+10, step = 22301 (0.330 sec)\n",
      "INFO:tensorflow:global_step/sec: 301.96\n",
      "INFO:tensorflow:loss = 1.3985e+11, step = 22401 (0.328 sec)\n",
      "INFO:tensorflow:global_step/sec: 314.838\n",
      "INFO:tensorflow:loss = 1.12991e+11, step = 22501 (0.322 sec)\n",
      "INFO:tensorflow:global_step/sec: 285.974\n",
      "INFO:tensorflow:loss = 1.72884e+11, step = 22601 (0.344 sec)\n",
      "INFO:tensorflow:global_step/sec: 317.43\n",
      "INFO:tensorflow:loss = 9.11794e+10, step = 22701 (0.322 sec)\n",
      "INFO:tensorflow:global_step/sec: 344.427\n",
      "INFO:tensorflow:loss = 1.78331e+11, step = 22801 (0.288 sec)\n",
      "INFO:tensorflow:global_step/sec: 312.844\n",
      "INFO:tensorflow:loss = 1.63427e+11, step = 22901 (0.319 sec)\n",
      "INFO:tensorflow:global_step/sec: 322.022\n",
      "INFO:tensorflow:loss = 9.55093e+10, step = 23001 (0.312 sec)\n",
      "INFO:tensorflow:global_step/sec: 339.163\n",
      "INFO:tensorflow:loss = 1.07717e+11, step = 23101 (0.296 sec)\n",
      "INFO:tensorflow:global_step/sec: 323.521\n",
      "INFO:tensorflow:loss = 9.57592e+10, step = 23201 (0.307 sec)\n",
      "INFO:tensorflow:global_step/sec: 318.086\n",
      "INFO:tensorflow:loss = 5.69461e+10, step = 23301 (0.321 sec)\n",
      "INFO:tensorflow:global_step/sec: 305.42\n",
      "INFO:tensorflow:loss = 1.38413e+11, step = 23401 (0.325 sec)\n",
      "INFO:tensorflow:global_step/sec: 346.699\n",
      "INFO:tensorflow:loss = 9.02573e+10, step = 23501 (0.285 sec)\n",
      "INFO:tensorflow:global_step/sec: 361.36\n",
      "INFO:tensorflow:loss = 6.46501e+10, step = 23601 (0.276 sec)\n",
      "INFO:tensorflow:global_step/sec: 340.125\n",
      "INFO:tensorflow:loss = 6.3414e+10, step = 23701 (0.298 sec)\n",
      "INFO:tensorflow:global_step/sec: 344.531\n",
      "INFO:tensorflow:loss = 5.1339e+10, step = 23801 (0.280 sec)\n",
      "INFO:tensorflow:global_step/sec: 320.392\n",
      "INFO:tensorflow:loss = 1.15603e+11, step = 23901 (0.320 sec)\n",
      "INFO:tensorflow:global_step/sec: 292.684\n",
      "INFO:tensorflow:loss = 7.80874e+10, step = 24001 (0.341 sec)\n",
      "INFO:tensorflow:global_step/sec: 335.501\n",
      "INFO:tensorflow:loss = 1.20523e+11, step = 24101 (0.300 sec)\n",
      "INFO:tensorflow:global_step/sec: 312.648\n",
      "INFO:tensorflow:loss = 1.41808e+11, step = 24201 (0.318 sec)\n",
      "INFO:tensorflow:global_step/sec: 321.831\n",
      "INFO:tensorflow:loss = 5.85947e+10, step = 24301 (0.311 sec)\n",
      "INFO:tensorflow:global_step/sec: 321.03\n",
      "INFO:tensorflow:loss = 4.27006e+10, step = 24401 (0.312 sec)\n",
      "INFO:tensorflow:global_step/sec: 300.286\n",
      "INFO:tensorflow:loss = 1.70196e+11, step = 24501 (0.333 sec)\n",
      "INFO:tensorflow:global_step/sec: 295.904\n",
      "INFO:tensorflow:loss = 7.89558e+10, step = 24601 (0.351 sec)\n",
      "INFO:tensorflow:global_step/sec: 347.765\n",
      "INFO:tensorflow:loss = 6.26542e+10, step = 24701 (0.274 sec)\n",
      "INFO:tensorflow:global_step/sec: 325.134\n",
      "INFO:tensorflow:loss = 5.83067e+10, step = 24801 (0.305 sec)\n",
      "INFO:tensorflow:global_step/sec: 332.426\n",
      "INFO:tensorflow:loss = 3.76642e+10, step = 24901 (0.304 sec)\n",
      "INFO:tensorflow:global_step/sec: 311.739\n",
      "INFO:tensorflow:loss = 2.74592e+10, step = 25001 (0.321 sec)\n"
     ]
    },
    {
     "name": "stdout",
     "output_type": "stream",
     "text": [
      "INFO:tensorflow:global_step/sec: 329.757\n",
      "INFO:tensorflow:loss = 6.75528e+10, step = 25101 (0.305 sec)\n",
      "INFO:tensorflow:global_step/sec: 296.364\n",
      "INFO:tensorflow:loss = 6.28976e+10, step = 25201 (0.335 sec)\n",
      "INFO:tensorflow:global_step/sec: 311.276\n",
      "INFO:tensorflow:loss = 6.88134e+10, step = 25301 (0.320 sec)\n",
      "INFO:tensorflow:global_step/sec: 325.442\n",
      "INFO:tensorflow:loss = 1.14904e+11, step = 25401 (0.305 sec)\n",
      "INFO:tensorflow:global_step/sec: 317.479\n",
      "INFO:tensorflow:loss = 1.00024e+11, step = 25501 (0.317 sec)\n",
      "INFO:tensorflow:global_step/sec: 300.811\n",
      "INFO:tensorflow:loss = 1.12111e+11, step = 25601 (0.329 sec)\n",
      "INFO:tensorflow:global_step/sec: 305.823\n",
      "INFO:tensorflow:loss = 1.25006e+11, step = 25701 (0.327 sec)\n",
      "INFO:tensorflow:global_step/sec: 315.724\n",
      "INFO:tensorflow:loss = 9.85539e+10, step = 25801 (0.319 sec)\n",
      "INFO:tensorflow:global_step/sec: 331.092\n",
      "INFO:tensorflow:loss = 1.24356e+11, step = 25901 (0.300 sec)\n",
      "INFO:tensorflow:Saving checkpoints for 26000 into C:\\Users\\user\\AppData\\Local\\Temp\\tmpsymvar2c\\model.ckpt.\n",
      "INFO:tensorflow:Loss for final step: 1.55726e+11.\n"
     ]
    },
    {
     "data": {
      "text/plain": [
       "<tensorflow.python.estimator.canned.dnn.DNNRegressor at 0x1ea2a468208>"
      ]
     },
     "execution_count": 42,
     "metadata": {},
     "output_type": "execute_result"
    }
   ],
   "source": [
    "# model.train(input_fn=input_fn, steps=1000)\n",
    "model.train(input_fn=input_fn, steps=25000)"
   ]
  },
  {
   "cell_type": "markdown",
   "metadata": {},
   "source": [
    "** Creating a prediction input function and then use the .predict method off your estimator model to create a list or predictions on your test data. **"
   ]
  },
  {
   "cell_type": "code",
   "execution_count": 43,
   "metadata": {},
   "outputs": [],
   "source": [
    "predict_input_func = tf.estimator.inputs.pandas_input_fn(\n",
    "      x=X_test_scaled,\n",
    "      batch_size=10,\n",
    "      num_epochs=1,\n",
    "      shuffle=False)\n",
    "pred_gen = model.predict(predict_input_func)"
   ]
  },
  {
   "cell_type": "code",
   "execution_count": 44,
   "metadata": {},
   "outputs": [
    {
     "name": "stdout",
     "output_type": "stream",
     "text": [
      "INFO:tensorflow:Restoring parameters from C:\\Users\\user\\AppData\\Local\\Temp\\tmpsymvar2c\\model.ckpt-26000\n"
     ]
    }
   ],
   "source": [
    "predictions = list(pred_gen)"
   ]
  },
  {
   "cell_type": "code",
   "execution_count": 45,
   "metadata": {},
   "outputs": [],
   "source": [
    "final_preds = []\n",
    "for pred in predictions:\n",
    "    final_preds.append(pred['predictions'])"
   ]
  },
  {
   "cell_type": "markdown",
   "metadata": {},
   "source": [
    "** Calculate the RMSE. **"
   ]
  },
  {
   "cell_type": "code",
   "execution_count": 47,
   "metadata": {},
   "outputs": [
    {
     "data": {
      "text/plain": [
       "97633.247696390419"
      ]
     },
     "execution_count": 47,
     "metadata": {},
     "output_type": "execute_result"
    }
   ],
   "source": [
    "mean_squared_error(y_test, final_preds)**0.5"
   ]
  }
 ],
 "metadata": {
  "kernelspec": {
   "display_name": "Python 3",
   "language": "python",
   "name": "python3"
  },
  "language_info": {
   "codemirror_mode": {
    "name": "ipython",
    "version": 3
   },
   "file_extension": ".py",
   "mimetype": "text/x-python",
   "name": "python",
   "nbconvert_exporter": "python",
   "pygments_lexer": "ipython3",
   "version": "3.5.4"
  }
 },
 "nbformat": 4,
 "nbformat_minor": 2
}
